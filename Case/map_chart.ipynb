{
 "cells": [
  {
   "cell_type": "code",
   "execution_count": 14,
   "outputs": [],
   "source": [
    "import json\n",
    "from pyecharts.charts import Map\n",
    "from pyecharts.options import TitleOpts\n",
    "from pyecharts.options import VisualMapOpts"
   ],
   "metadata": {
    "collapsed": false,
    "ExecuteTime": {
     "end_time": "2023-10-21T10:42:01.375526600Z",
     "start_time": "2023-10-21T10:42:01.357721600Z"
    }
   },
   "id": "d39327b4ab2d160"
  },
  {
   "cell_type": "code",
   "execution_count": 15,
   "id": "initial_id",
   "metadata": {
    "collapsed": true,
    "ExecuteTime": {
     "end_time": "2023-10-21T10:42:01.884819400Z",
     "start_time": "2023-10-21T10:42:01.858016Z"
    }
   },
   "outputs": [
    {
     "name": "stdout",
     "output_type": "stream",
     "text": [
      "[('台湾', 15880), ('江苏', 1576), ('云南', 982), ('河南', 1518), ('上海', 2408), ('湖南', 1181), ('湖北', 68286), ('广东', 2978), ('香港', 12039), ('福建', 773), ('浙江', 1417), ('山东', 923), ('四川', 1179), ('天津', 445), ('北京', 1107), ('陕西', 668), ('广西', 289), ('辽宁', 441), ('重庆', 603), ('澳门', 63), ('甘肃', 199), ('山西', 255), ('海南', 190), ('内蒙古', 410), ('吉林', 574), ('黑龙江', 1613), ('宁夏', 77), ('青海', 18), ('江西', 937), ('贵州', 147), ('西藏', 1), ('安徽', 1008), ('河北', 1317), ('新疆', 980)]\n"
     ]
    }
   ],
   "source": [
    "with open(r'地图数据/疫情.txt','r',encoding='utf-8') as f:\n",
    "    data=f.read()\n",
    "\n",
    "# 类型转换\n",
    "data_dict=json.loads(data)\n",
    "province_data_list=data_dict['areaTree'][0]['children']\n",
    "data_list=[]\n",
    "for province_data in province_data_list:\n",
    "    province_name=province_data['name']\n",
    "    province_confirm=province_data['total']['confirm']\n",
    "    data_list.append((province_name,province_confirm))\n",
    "print(data_list)"
   ]
  },
  {
   "cell_type": "code",
   "execution_count": 17,
   "outputs": [
    {
     "data": {
      "text/plain": "'C:\\\\Users\\\\Luffy\\\\Desktop\\\\python_learning\\\\Case\\\\全国疫情确诊人数分布图.html'"
     },
     "execution_count": 17,
     "metadata": {},
     "output_type": "execute_result"
    }
   ],
   "source": [
    "map=Map()\n",
    "map.add('各省确诊数据',data_list,'china')\n",
    "map.set_global_opts(title_opts=TitleOpts('全国疫情地图'),\n",
    "                    visualmap_opts=VisualMapOpts(                       \n",
    "                        is_show=True, # 是否显示                      \n",
    "                        is_piecewise=True,#是否分段\n",
    "                     pieces=[\n",
    "                         {\"min\": 1,\"max\": 99,\"lable\":\"1~99人\",\"color\":\"#CCFFFF\"},\n",
    "                         {\"min\": 100,\"max\": 999,\"lable\": \"100~9999人\",\"color\":\"#FFFF99\"},\n",
    "                         {\"min\": 1000,\"max\": 4999,\"lable\":\"1000~4999人\",\"color\":\"#FF9966\"},\n",
    "                         {\"min\": 5000,\"max\": 9999,\"lable\":\"5000~99999人\",\"color\":\"#FF6666\"},\n",
    "                         {\"min\": 10000,\"max\": 99999,\"lable\":\"10000~99999人\",\"color\":\"#FF7777\"},\n",
    "                         {\"min\": 100000,\"lable\":\"100000+\",\"color\":\"#CCFFFF\"},\n",
    "                         ]))\n",
    "map.render('全国疫情确诊人数分布图.html')"
   ],
   "metadata": {
    "collapsed": false,
    "ExecuteTime": {
     "end_time": "2023-10-21T10:44:34.191589700Z",
     "start_time": "2023-10-21T10:44:34.156656Z"
    }
   },
   "id": "9ee6627fd120971"
  }
 ],
 "metadata": {
  "kernelspec": {
   "display_name": "Python 3",
   "language": "python",
   "name": "python3"
  },
  "language_info": {
   "codemirror_mode": {
    "name": "ipython",
    "version": 2
   },
   "file_extension": ".py",
   "mimetype": "text/x-python",
   "name": "python",
   "nbconvert_exporter": "python",
   "pygments_lexer": "ipython2",
   "version": "2.7.6"
  }
 },
 "nbformat": 4,
 "nbformat_minor": 5
}
