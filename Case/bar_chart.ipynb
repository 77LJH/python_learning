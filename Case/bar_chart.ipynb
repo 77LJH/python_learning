{
 "cells": [
  {
   "cell_type": "code",
   "execution_count": 7,
   "outputs": [],
   "source": [
    "from pyecharts.charts import Bar,Timeline\n",
    "from pyecharts.options import *"
   ],
   "metadata": {
    "collapsed": false,
    "ExecuteTime": {
     "end_time": "2023-10-21T10:38:32.042486900Z",
     "start_time": "2023-10-21T10:38:32.024341500Z"
    }
   },
   "id": "c30624236c1aeb86"
  },
  {
   "cell_type": "code",
   "execution_count": 8,
   "outputs": [
    {
     "data": {
      "text/plain": "<pyecharts.charts.basic_charts.bar.Bar at 0x23e1f5e5880>"
     },
     "execution_count": 8,
     "metadata": {},
     "output_type": "execute_result"
    }
   ],
   "source": [
    "bar1=Bar()\n",
    "bar1.add_xaxis(['chian','america','japan'])\n",
    "bar1.add_yaxis('GDP',[10,15,9],label_opts=LabelOpts(position='right'))\n",
    "bar1.reversal_axis()"
   ],
   "metadata": {
    "collapsed": false,
    "ExecuteTime": {
     "end_time": "2023-10-21T10:38:32.318375300Z",
     "start_time": "2023-10-21T10:38:32.313018600Z"
    }
   },
   "id": "a80000f7fa4c9b9c"
  },
  {
   "cell_type": "code",
   "execution_count": 9,
   "outputs": [
    {
     "data": {
      "text/plain": "<pyecharts.charts.basic_charts.bar.Bar at 0x23e1f0cf880>"
     },
     "execution_count": 9,
     "metadata": {},
     "output_type": "execute_result"
    }
   ],
   "source": [
    "bar2=Bar()\n",
    "bar2.add_xaxis(['chian','america','japan'])\n",
    "bar2.add_yaxis('GDP',[18,10,15],label_opts=LabelOpts(position='right'))\n",
    "bar2.reversal_axis()"
   ],
   "metadata": {
    "collapsed": false,
    "ExecuteTime": {
     "end_time": "2023-10-21T10:38:32.757277400Z",
     "start_time": "2023-10-21T10:38:32.751757700Z"
    }
   },
   "id": "a522d1f056632df2"
  },
  {
   "cell_type": "code",
   "execution_count": 12,
   "outputs": [
    {
     "data": {
      "text/plain": "<pyecharts.charts.basic_charts.bar.Bar at 0x23e1f0cf9d0>"
     },
     "execution_count": 12,
     "metadata": {},
     "output_type": "execute_result"
    }
   ],
   "source": [
    "bar3=Bar()\n",
    "bar3.add_xaxis(['chian','america','japan'])\n",
    "bar3.add_yaxis('GDP',[20,21,25],label_opts=LabelOpts(position='right'))\n",
    "bar3.reversal_axis()"
   ],
   "metadata": {
    "collapsed": false,
    "ExecuteTime": {
     "end_time": "2023-10-21T10:46:56.986596200Z",
     "start_time": "2023-10-21T10:46:56.967298400Z"
    }
   },
   "id": "e44ef654f3fad5f9"
  },
  {
   "cell_type": "code",
   "execution_count": 15,
   "outputs": [
    {
     "data": {
      "text/plain": "'C:\\\\Users\\\\Luffy\\\\Desktop\\\\python_learning\\\\Case\\\\基础柱状图-时间线.html'"
     },
     "execution_count": 15,
     "metadata": {},
     "output_type": "execute_result"
    }
   ],
   "source": [
    "timeline=Timeline()\n",
    "timeline.add(bar1,'2021年GDP')\n",
    "timeline.add(bar2,'2022年GDP')\n",
    "timeline.add(bar3,'2023年GDP')\n",
    "\n",
    "# 设置自动播放\n",
    "timeline.add_schema(play_interval=1000, # 自动播放的时间间隔，单位毫秒\n",
    "                    is_timeline_show=True, # 自动播放时是否展示时间线\n",
    "                    is_auto_play=True,\n",
    "                    is_loop_play=True)\n",
    "\n",
    "timeline.render('基础柱状图-时间线.html')"
   ],
   "metadata": {
    "collapsed": false,
    "ExecuteTime": {
     "end_time": "2023-10-21T10:50:07.111570100Z",
     "start_time": "2023-10-21T10:50:07.086709400Z"
    }
   },
   "id": "2663d7dbcc8adf49"
  },
  {
   "cell_type": "code",
   "execution_count": null,
   "outputs": [],
   "source": [],
   "metadata": {
    "collapsed": false
   },
   "id": "d216214e2bb5dd88"
  }
 ],
 "metadata": {
  "kernelspec": {
   "display_name": "Python 3",
   "language": "python",
   "name": "python3"
  },
  "language_info": {
   "codemirror_mode": {
    "name": "ipython",
    "version": 2
   },
   "file_extension": ".py",
   "mimetype": "text/x-python",
   "name": "python",
   "nbconvert_exporter": "python",
   "pygments_lexer": "ipython2",
   "version": "2.7.6"
  }
 },
 "nbformat": 4,
 "nbformat_minor": 5
}
