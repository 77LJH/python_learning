{
 "cells": [
  {
   "cell_type": "code",
   "execution_count": 1,
   "id": "initial_id",
   "metadata": {
    "collapsed": true,
    "ExecuteTime": {
     "end_time": "2023-10-21T10:41:56.629097300Z",
     "start_time": "2023-10-21T10:41:56.502162Z"
    }
   },
   "outputs": [
    {
     "data": {
      "text/plain": "'C:\\\\Users\\\\Luffy\\\\Desktop\\\\python_learning\\\\Case\\\\普通折线图.html'"
     },
     "execution_count": 1,
     "metadata": {},
     "output_type": "execute_result"
    }
   ],
   "source": [
    "from pyecharts.charts import Line\n",
    "from pyecharts.options import TitleOpts\n",
    "from pyecharts.options import LegendOpts\n",
    "from pyecharts.options import ToolboxOpts\n",
    "from pyecharts.options import VisualMapOpts\n",
    "\n",
    "line=Line()\n",
    "line.add_xaxis(['liu','zhang','sun'])\n",
    "line.add_yaxis('salary',[12,34,21])\n",
    "\n",
    "# 配置全局配置项\n",
    "line.set_global_opts(title_opts=TitleOpts(is_show=True,title='salary',pos_left='center',pos_bottom=\"1%\"),\n",
    "                     legend_opts=LegendOpts(is_show=True),\n",
    "                     toolbox_opts=ToolboxOpts(is_show=True),\n",
    "                     visualmap_opts=VisualMapOpts(is_show=True))\n",
    "line.render('普通折线图.html')    "
   ]
  }
 ],
 "metadata": {
  "kernelspec": {
   "display_name": "Python 3",
   "language": "python",
   "name": "python3"
  },
  "language_info": {
   "codemirror_mode": {
    "name": "ipython",
    "version": 2
   },
   "file_extension": ".py",
   "mimetype": "text/x-python",
   "name": "python",
   "nbconvert_exporter": "python",
   "pygments_lexer": "ipython2",
   "version": "2.7.6"
  }
 },
 "nbformat": 4,
 "nbformat_minor": 5
}
