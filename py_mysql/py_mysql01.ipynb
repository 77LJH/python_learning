{
 "cells": [
  {
   "cell_type": "code",
   "execution_count": 10,
   "id": "initial_id",
   "metadata": {
    "collapsed": true,
    "ExecuteTime": {
     "end_time": "2023-10-21T16:57:57.965686500Z",
     "start_time": "2023-10-21T16:57:57.948105400Z"
    }
   },
   "outputs": [],
   "source": [
    "from pymysql import Connect"
   ]
  },
  {
   "cell_type": "code",
   "execution_count": 11,
   "outputs": [
    {
     "name": "stdout",
     "output_type": "stream",
     "text": [
      "8.0.34\n"
     ]
    }
   ],
   "source": [
    "connect = Connect(\n",
    "    host='localhost',\n",
    "    port=3306,\n",
    "    user='root',\n",
    "    password='1027',\n",
    "    # autocommit=True\n",
    ")\n",
    "print(connect.get_server_info())"
   ],
   "metadata": {
    "collapsed": false,
    "ExecuteTime": {
     "end_time": "2023-10-21T16:57:58.680661900Z",
     "start_time": "2023-10-21T16:57:58.653145700Z"
    }
   },
   "id": "706138ed6a17da0c"
  },
  {
   "cell_type": "code",
   "execution_count": 12,
   "outputs": [],
   "source": [
    "cursor=connect.cursor() #获取游标对象\n",
    "# 选择数据库\n",
    "connect.select_db('heima')"
   ],
   "metadata": {
    "collapsed": false,
    "ExecuteTime": {
     "end_time": "2023-10-21T16:57:59.585606500Z",
     "start_time": "2023-10-21T16:57:59.580582200Z"
    }
   },
   "id": "575c23bb63547a44"
  },
  {
   "cell_type": "code",
   "execution_count": null,
   "outputs": [],
   "source": [
    "# 执行非查询SQL语句\n",
    "cursor.execute('create table if not exists test_mysql(id int);')\n",
    "cursor.execute('alter table test_mysql rename to test_pymysql;')"
   ],
   "metadata": {
    "collapsed": false
   },
   "id": "6f055ccc8393d17c"
  },
  {
   "cell_type": "code",
   "execution_count": 17,
   "outputs": [],
   "source": [
    "# 执行产生数据的更改需要手动确认提交，插入、更新、删除\n",
    "cursor.execute('insert into test_pymysql values (99)')\n",
    "# 通过commit确认\n",
    "connect.commit()\n",
    "# 或者在创建connect对象时就填写参数autocommit=True"
   ],
   "metadata": {
    "collapsed": false,
    "ExecuteTime": {
     "end_time": "2023-10-21T17:01:43.597698100Z",
     "start_time": "2023-10-21T17:01:43.584688Z"
    }
   },
   "id": "1ca930bc10229b18"
  },
  {
   "cell_type": "code",
   "execution_count": 8,
   "outputs": [
    {
     "name": "stdout",
     "output_type": "stream",
     "text": [
      "(('00001', 'E1001', '张三', '男', 28, '330102199501010101', '北京市朝阳区', datetime.date(2021, 1, 15)), ('00002', 'E1002', '李四', '女', 25, '330103199612020202', '上海市浦东区', datetime.date(2020, 12, 10)), ('00003', 'E1003', '王五', '男', 30, '330104198811030303', '广州市天河区', datetime.date(2019, 5, 20)), ('00004', 'E1004', '赵六', '女', 22, '330105199907040404', '深圳市福田区', datetime.date(2022, 3, 8)), ('00005', 'E1005', '刘七', '男', 27, '330106199603050505', '成都市武侯区', datetime.date(2021, 8, 12)), ('00006', 'E1006', '陈八', '女', 29, '330107199501060606', '重庆市渝中区', datetime.date(2020, 11, 25)), ('00007', 'E1007', '杨九', '男', 24, '330108199812070707', '南京市玄武区', datetime.date(2022, 2, 18)), ('00008', 'E1008', '吴十', '女', 26, '330109199710080808', '杭州市西湖区', datetime.date(2021, 3, 30)), ('00009', 'E1009', '周十一', '男', 32, '330110198912090909', '武汉市江汉区', datetime.date(2018, 7, 5)), ('00010', 'E1010', '郑十二', '女', 23, '330111200008101010', '苏州市姑苏区', datetime.date(2022, 5, 17)), ('00011', 'E1011', '孙十三', '男', 31, '330112199103111111', '天津市和平区', datetime.date(2019, 9, 22)), ('00012', 'E1012', '胡十四', '女', 28, '330113199406121212', '青岛市市南区', datetime.date(2020, 4, 3)), ('00013', 'E1013', '朱十五', '男', 29, '330114199312131313', '西安市雁塔区', datetime.date(2021, 6, 29)), ('00014', 'E1014', '林十六', '女', 27, '330115199703141414', '成都市锦江区', datetime.date(2022, 1, 14)), ('00015', 'E1015', '何十七', '男', 25, '330116199810151515', '广州市海珠区', datetime.date(2019, 12, 7)), ('00016', None, '孙十八', '男', None, None, None, None))\n",
      "('00001', 'E1001', '张三', '男', 28, '330102199501010101', '北京市朝阳区', datetime.date(2021, 1, 15))\n",
      "('00002', 'E1002', '李四', '女', 25, '330103199612020202', '上海市浦东区', datetime.date(2020, 12, 10))\n",
      "('00003', 'E1003', '王五', '男', 30, '330104198811030303', '广州市天河区', datetime.date(2019, 5, 20))\n",
      "('00004', 'E1004', '赵六', '女', 22, '330105199907040404', '深圳市福田区', datetime.date(2022, 3, 8))\n",
      "('00005', 'E1005', '刘七', '男', 27, '330106199603050505', '成都市武侯区', datetime.date(2021, 8, 12))\n",
      "('00006', 'E1006', '陈八', '女', 29, '330107199501060606', '重庆市渝中区', datetime.date(2020, 11, 25))\n",
      "('00007', 'E1007', '杨九', '男', 24, '330108199812070707', '南京市玄武区', datetime.date(2022, 2, 18))\n",
      "('00008', 'E1008', '吴十', '女', 26, '330109199710080808', '杭州市西湖区', datetime.date(2021, 3, 30))\n",
      "('00009', 'E1009', '周十一', '男', 32, '330110198912090909', '武汉市江汉区', datetime.date(2018, 7, 5))\n",
      "('00010', 'E1010', '郑十二', '女', 23, '330111200008101010', '苏州市姑苏区', datetime.date(2022, 5, 17))\n",
      "('00011', 'E1011', '孙十三', '男', 31, '330112199103111111', '天津市和平区', datetime.date(2019, 9, 22))\n",
      "('00012', 'E1012', '胡十四', '女', 28, '330113199406121212', '青岛市市南区', datetime.date(2020, 4, 3))\n",
      "('00013', 'E1013', '朱十五', '男', 29, '330114199312131313', '西安市雁塔区', datetime.date(2021, 6, 29))\n",
      "('00014', 'E1014', '林十六', '女', 27, '330115199703141414', '成都市锦江区', datetime.date(2022, 1, 14))\n",
      "('00015', 'E1015', '何十七', '男', 25, '330116199810151515', '广州市海珠区', datetime.date(2019, 12, 7))\n",
      "('00016', None, '孙十八', '男', None, None, None, None)\n"
     ]
    }
   ],
   "source": [
    "# 执行查询SQL语句\n",
    "cursor.execute('select * from emp;')\n",
    "results=cursor.fetchall()\n",
    "print(results)\n",
    "for r in results:\n",
    "    print(r)"
   ],
   "metadata": {
    "collapsed": false,
    "ExecuteTime": {
     "end_time": "2023-10-21T16:55:04.208842800Z",
     "start_time": "2023-10-21T16:55:04.187384800Z"
    }
   },
   "id": "5a872a970df44217"
  },
  {
   "cell_type": "code",
   "execution_count": 9,
   "outputs": [],
   "source": [
    "connect.close()"
   ],
   "metadata": {
    "collapsed": false,
    "ExecuteTime": {
     "end_time": "2023-10-21T16:55:13.505979800Z",
     "start_time": "2023-10-21T16:55:13.495566200Z"
    }
   },
   "id": "7d519ead8cb7c77d"
  }
 ],
 "metadata": {
  "kernelspec": {
   "display_name": "Python 3",
   "language": "python",
   "name": "python3"
  },
  "language_info": {
   "codemirror_mode": {
    "name": "ipython",
    "version": 2
   },
   "file_extension": ".py",
   "mimetype": "text/x-python",
   "name": "python",
   "nbconvert_exporter": "python",
   "pygments_lexer": "ipython2",
   "version": "2.7.6"
  }
 },
 "nbformat": 4,
 "nbformat_minor": 5
}
