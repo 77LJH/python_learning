{
 "cells": [
  {
   "cell_type": "code",
   "execution_count": 17,
   "metadata": {
    "ExecuteTime": {
     "end_time": "2023-10-20T09:25:50.098148Z",
     "start_time": "2023-10-20T09:25:50.082673300Z"
    }
   },
   "outputs": [
    {
     "name": "stdout",
     "output_type": "stream",
     "text": [
      "['first,second,third\\n', '夜来风雨声,花落知多少,正式\\n', '白日依山尽,黄河入海流,正式\\n', '欲穷千里目,更上一层楼,正式\\n']\n"
     ]
    }
   ],
   "source": [
    "print(23"
   ]
  },
  {
   "cell_type": "code",
   "execution_count": 17,
   "outputs": [],
   "source": [
    "print('h发顺丰ello')"
   ],
   "metadata": {
    "collapsed": false,
    "ExecuteTime": {
     "end_time": "2023-10-20T09:25:50.622593900Z",
     "start_time": "2023-10-20T09:25:50.575385600Z"
    }
   }
  },
  {
   "cell_type": "code",
   "execution_count": 17,
   "outputs": [],
   "source": [
    "print(122)"
   ],
   "metadata": {
    "collapsed": false,
    "ExecuteTime": {
     "end_time": "2023-10-20T09:25:50.837258200Z",
     "start_time": "2023-10-20T09:25:50.820411400Z"
    }
   }
  }
 ],
 "metadata": {
  "kernelspec": {
   "display_name": "base",
   "language": "python",
   "name": "python3"
  },
  "language_info": {
   "name": "python",
   "version": "3.9.13"
  }
 },
 "nbformat": 4,
 "nbformat_minor": 2
}
