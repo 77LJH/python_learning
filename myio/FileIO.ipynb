{
 "cells": [
  {
   "cell_type": "code",
   "execution_count": 13,
   "outputs": [
    {
     "name": "stdout",
     "output_type": "stream",
     "text": [
      "['first,second,third\\n', '夜来风雨声,花落知多少,正式\\n', '白日依山尽,黄河入海流,正式\\n', '欲穷千里目,更上一层楼,正式\\n']\n"
     ]
    }
   ],
   "source": [
    "content =[]\n",
    "with open('a.txt','r',encoding='utf-8') as f:\n",
    "    for line in f:\n",
    "        if not line.strip().endswith('测试'):\n",
    "             content.append(line)\n",
    "print(content)\n",
    "with open('b.txt.bak','w',encoding='utf-8') as f:\n",
    "    for line in content:\n",
    "        f.write(line)"
   ],
   "metadata": {
    "collapsed": false,
    "ExecuteTime": {
     "end_time": "2023-10-20T09:54:23.298653500Z",
     "start_time": "2023-10-20T09:54:23.287521100Z"
    }
   }
  }
 ],
 "metadata": {
  "kernelspec": {
   "display_name": "base",
   "language": "python",
   "name": "python3"
  },
  "language_info": {
   "name": "python",
   "version": "3.9.13"
  }
 },
 "nbformat": 4,
 "nbformat_minor": 2
}
